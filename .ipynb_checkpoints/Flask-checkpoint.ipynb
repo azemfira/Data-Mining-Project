{
 "cells": [
  {
   "cell_type": "code",
   "execution_count": 1,
   "metadata": {},
   "outputs": [],
   "source": [
    "import numpy as np\n",
    "\n",
    "from flask import Flask, render_template, request, redirect"
   ]
  },
  {
   "cell_type": "code",
   "execution_count": 2,
   "metadata": {},
   "outputs": [],
   "source": [
    "import pickle"
   ]
  },
  {
   "cell_type": "code",
   "execution_count": null,
   "metadata": {},
   "outputs": [
    {
     "name": "stdout",
     "output_type": "stream",
     "text": [
      " * Serving Flask app \"__main__\" (lazy loading)\n",
      " * Environment: production\n",
      "   WARNING: This is a development server. Do not use it in a production deployment.\n",
      "   Use a production WSGI server instead.\n",
      " * Debug mode: on\n"
     ]
    },
    {
     "name": "stderr",
     "output_type": "stream",
     "text": [
      " * Running on http://127.0.0.1:5000/ (Press CTRL+C to quit)\n"
     ]
    }
   ],
   "source": [
    "app = Flask(__name__)\n",
    "model = pickle.load(open(\"model1.pkl\", \"rb\"))\n",
    "\n",
    "@app.route(\"/\", methods = ['GET','POST'])\n",
    "def home():\n",
    "    return render_template('home.html')\n",
    "@app.route('/predict', methods =['POST'])\n",
    "def predict():\n",
    "    id1 = request.form['id1']\n",
    "    g = request.form['g']\n",
    "    a = request.form['a']\n",
    "    hyp = request.form['hyp']\n",
    "    h = request.form['h']\n",
    "    e = request.form['e']\n",
    "    w = request.form['w']\n",
    "    r = request.form['r']\n",
    "    avg = request.form['avg']\n",
    "    bmi = request.form['bmi']\n",
    "    sm = request.form['sm']\n",
    "  \n",
    "    natije = np.array([[id1, g, a, hyp, h, e, w, r, avg, bmi, sm]])\n",
    "    prediction = model.predict(natije)\n",
    "    return render_template(\"home.html\", prediction_text= \"Пациенттің анализдерінің нәтижесі: {}\".format(prediction))\n",
    "\n",
    "if __name__ == \"__main__\":\n",
    "    app.run(debug =True, use_reloader=False)"
   ]
  },
  {
   "cell_type": "code",
   "execution_count": null,
   "metadata": {},
   "outputs": [],
   "source": []
  }
 ],
 "metadata": {
  "kernelspec": {
   "display_name": "Python 3",
   "language": "python",
   "name": "python3"
  },
  "language_info": {
   "codemirror_mode": {
    "name": "ipython",
    "version": 3
   },
   "file_extension": ".py",
   "mimetype": "text/x-python",
   "name": "python",
   "nbconvert_exporter": "python",
   "pygments_lexer": "ipython3",
   "version": "3.8.5"
  }
 },
 "nbformat": 4,
 "nbformat_minor": 4
}
